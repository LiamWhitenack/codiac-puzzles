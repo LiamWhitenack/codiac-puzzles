{
 "cells": [
  {
   "cell_type": "code",
   "execution_count": 7,
   "id": "b4a706e1",
   "metadata": {},
   "outputs": [],
   "source": [
    "import json\n",
    "\n",
    "from codiac_sandbox.crud.create import get_puzzle_parameters\n",
    "from codiac_sandbox.utils.puzzle_classes import PUZZLE_CLASSES\n",
    "\n",
    "all = []\n",
    "with open(\"resources/old-puzzle-list.json\") as read:\n",
    "    data: dict[str, str]\n",
    "    for data in json.load(read):\n",
    "        puzzle_type = data.pop(\"type\")\n",
    "        cls = PUZZLE_CLASSES[puzzle_type]\n",
    "        if missing_names := (set(get_puzzle_parameters(puzzle_type)) - set(data)):\n",
    "            print(data)\n",
    "            for missing_name in missing_names:\n",
    "                data[missing_name] = input(missing_name)\n",
    "        all.append(cls(**data).to_json())\n",
    "with open(\"resources/master-puzzle-list.json\", \"w\") as write:\n",
    "    json.dump(all, write, indent=2)"
   ]
  },
  {
   "cell_type": "code",
   "execution_count": null,
   "id": "93038398",
   "metadata": {},
   "outputs": [],
   "source": []
  }
 ],
 "metadata": {
  "kernelspec": {
   "display_name": ".venv",
   "language": "python",
   "name": "python3"
  },
  "language_info": {
   "codemirror_mode": {
    "name": "ipython",
    "version": 3
   },
   "file_extension": ".py",
   "mimetype": "text/x-python",
   "name": "python",
   "nbconvert_exporter": "python",
   "pygments_lexer": "ipython3",
   "version": "3.13.0"
  }
 },
 "nbformat": 4,
 "nbformat_minor": 5
}
