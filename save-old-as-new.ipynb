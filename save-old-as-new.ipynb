{
 "cells": [
  {
   "cell_type": "code",
   "execution_count": null,
   "id": "93038398",
   "metadata": {},
   "outputs": [],
   "source": [
    "import json\n",
    "\n",
    "\n",
    "with open(\"resources/master-puzzle-list.json\") as read:\n",
    "    data: dict[str, str]\n",
    "    for data in json.load(read):\n",
    "        data |= {\"used\": False}\n",
    "        all.append(data)\n",
    "with open(\"resources/master-puzzle-list.json\", \"w\") as write:\n",
    "    json.dump(all, write, indent=2)"
   ]
  }
 ],
 "metadata": {
  "kernelspec": {
   "display_name": ".venv",
   "language": "python",
   "name": "python3"
  },
  "language_info": {
   "codemirror_mode": {
    "name": "ipython",
    "version": 3
   },
   "file_extension": ".py",
   "mimetype": "text/x-python",
   "name": "python",
   "nbconvert_exporter": "python",
   "pygments_lexer": "ipython3",
   "version": "3.13.0"
  }
 },
 "nbformat": 4,
 "nbformat_minor": 5
}
